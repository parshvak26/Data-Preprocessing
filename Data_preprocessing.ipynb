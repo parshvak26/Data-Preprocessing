{
  "nbformat": 4,
  "nbformat_minor": 0,
  "metadata": {
    "colab": {
      "provenance": [],
      "collapsed_sections": [
        "qsekfkJEH_So",
        "c8pXozkx-cw7",
        "WlsbMjxj4BMf",
        "LB-aTjvO8CTN"
      ],
      "authorship_tag": "ABX9TyPMl29C8hQ65CVvS2jF1qPO",
      "include_colab_link": true
    },
    "kernelspec": {
      "name": "python3",
      "display_name": "Python 3"
    },
    "language_info": {
      "name": "python"
    }
  },
  "cells": [
    {
      "cell_type": "markdown",
      "metadata": {
        "id": "view-in-github",
        "colab_type": "text"
      },
      "source": [
        "<a href=\"https://colab.research.google.com/github/parshvak26/Data-Preprocessing/blob/main/Data_preprocessing.ipynb\" target=\"_parent\"><img src=\"https://colab.research.google.com/assets/colab-badge.svg\" alt=\"Open In Colab\"/></a>"
      ]
    },
    {
      "cell_type": "code",
      "source": [
        "from google.colab import drive\n",
        "drive.mount('/content/drive')"
      ],
      "metadata": {
        "colab": {
          "base_uri": "https://localhost:8080/"
        },
        "id": "ijRkODdp8MB_",
        "outputId": "26f6233d-c72a-4ade-88de-fb4c1c11e00d"
      },
      "execution_count": 1,
      "outputs": [
        {
          "output_type": "stream",
          "name": "stdout",
          "text": [
            "Mounted at /content/drive\n"
          ]
        }
      ]
    },
    {
      "cell_type": "code",
      "source": [
        "import pandas as pd"
      ],
      "metadata": {
        "id": "jqSDCsGI8OJj"
      },
      "execution_count": 2,
      "outputs": []
    },
    {
      "cell_type": "code",
      "source": [
        "df = pd.read_csv(\"/content/drive/MyDrive/Global YouTube Statistics.csv\", encoding='ISO-8859-1')"
      ],
      "metadata": {
        "id": "G4nVWNm48lLl"
      },
      "execution_count": 3,
      "outputs": []
    },
    {
      "cell_type": "markdown",
      "source": [
        "###Understanding data"
      ],
      "metadata": {
        "id": "qsekfkJEH_So"
      }
    },
    {
      "cell_type": "code",
      "source": [
        "df.head()"
      ],
      "metadata": {
        "colab": {
          "base_uri": "https://localhost:8080/",
          "height": 0
        },
        "id": "hSnBeepF9FGg",
        "outputId": "b1684df0-1497-47cf-9dcc-5b004aa6de5e"
      },
      "execution_count": 4,
      "outputs": [
        {
          "output_type": "execute_result",
          "data": {
            "text/plain": [
              "   rank                    Youtuber  subscribers   video views  \\\n",
              "0     1                    T-Series    245000000  2.280000e+11   \n",
              "1     2              YouTube Movies    170000000  0.000000e+00   \n",
              "2     3                     MrBeast    166000000  2.836884e+10   \n",
              "3     4  Cocomelon - Nursery Rhymes    162000000  1.640000e+11   \n",
              "4     5                   SET India    159000000  1.480000e+11   \n",
              "\n",
              "           category                       Title  uploads        Country  \\\n",
              "0             Music                    T-Series    20082          India   \n",
              "1  Film & Animation               youtubemovies        1  United States   \n",
              "2     Entertainment                     MrBeast      741  United States   \n",
              "3         Education  Cocomelon - Nursery Rhymes      966  United States   \n",
              "4             Shows                   SET India   116536          India   \n",
              "\n",
              "  Abbreviation   channel_type  ...  subscribers_for_last_30_days  \\\n",
              "0           IN          Music  ...                     2000000.0   \n",
              "1           US          Games  ...                           NaN   \n",
              "2           US  Entertainment  ...                     8000000.0   \n",
              "3           US      Education  ...                     1000000.0   \n",
              "4           IN  Entertainment  ...                     1000000.0   \n",
              "\n",
              "   created_year  created_month  created_date  \\\n",
              "0        2006.0            Mar          13.0   \n",
              "1        2006.0            Mar           5.0   \n",
              "2        2012.0            Feb          20.0   \n",
              "3        2006.0            Sep           1.0   \n",
              "4        2006.0            Sep          20.0   \n",
              "\n",
              "   Gross tertiary education enrollment (%)    Population  Unemployment rate  \\\n",
              "0                                     28.1  1.366418e+09               5.36   \n",
              "1                                     88.2  3.282395e+08              14.70   \n",
              "2                                     88.2  3.282395e+08              14.70   \n",
              "3                                     88.2  3.282395e+08              14.70   \n",
              "4                                     28.1  1.366418e+09               5.36   \n",
              "\n",
              "   Urban_population   Latitude  Longitude  \n",
              "0       471031528.0  20.593684  78.962880  \n",
              "1       270663028.0  37.090240 -95.712891  \n",
              "2       270663028.0  37.090240 -95.712891  \n",
              "3       270663028.0  37.090240 -95.712891  \n",
              "4       471031528.0  20.593684  78.962880  \n",
              "\n",
              "[5 rows x 28 columns]"
            ],
            "text/html": [
              "\n",
              "  <div id=\"df-2706bdac-31b9-4d5f-a499-54e75bac9a43\" class=\"colab-df-container\">\n",
              "    <div>\n",
              "<style scoped>\n",
              "    .dataframe tbody tr th:only-of-type {\n",
              "        vertical-align: middle;\n",
              "    }\n",
              "\n",
              "    .dataframe tbody tr th {\n",
              "        vertical-align: top;\n",
              "    }\n",
              "\n",
              "    .dataframe thead th {\n",
              "        text-align: right;\n",
              "    }\n",
              "</style>\n",
              "<table border=\"1\" class=\"dataframe\">\n",
              "  <thead>\n",
              "    <tr style=\"text-align: right;\">\n",
              "      <th></th>\n",
              "      <th>rank</th>\n",
              "      <th>Youtuber</th>\n",
              "      <th>subscribers</th>\n",
              "      <th>video views</th>\n",
              "      <th>category</th>\n",
              "      <th>Title</th>\n",
              "      <th>uploads</th>\n",
              "      <th>Country</th>\n",
              "      <th>Abbreviation</th>\n",
              "      <th>channel_type</th>\n",
              "      <th>...</th>\n",
              "      <th>subscribers_for_last_30_days</th>\n",
              "      <th>created_year</th>\n",
              "      <th>created_month</th>\n",
              "      <th>created_date</th>\n",
              "      <th>Gross tertiary education enrollment (%)</th>\n",
              "      <th>Population</th>\n",
              "      <th>Unemployment rate</th>\n",
              "      <th>Urban_population</th>\n",
              "      <th>Latitude</th>\n",
              "      <th>Longitude</th>\n",
              "    </tr>\n",
              "  </thead>\n",
              "  <tbody>\n",
              "    <tr>\n",
              "      <th>0</th>\n",
              "      <td>1</td>\n",
              "      <td>T-Series</td>\n",
              "      <td>245000000</td>\n",
              "      <td>2.280000e+11</td>\n",
              "      <td>Music</td>\n",
              "      <td>T-Series</td>\n",
              "      <td>20082</td>\n",
              "      <td>India</td>\n",
              "      <td>IN</td>\n",
              "      <td>Music</td>\n",
              "      <td>...</td>\n",
              "      <td>2000000.0</td>\n",
              "      <td>2006.0</td>\n",
              "      <td>Mar</td>\n",
              "      <td>13.0</td>\n",
              "      <td>28.1</td>\n",
              "      <td>1.366418e+09</td>\n",
              "      <td>5.36</td>\n",
              "      <td>471031528.0</td>\n",
              "      <td>20.593684</td>\n",
              "      <td>78.962880</td>\n",
              "    </tr>\n",
              "    <tr>\n",
              "      <th>1</th>\n",
              "      <td>2</td>\n",
              "      <td>YouTube Movies</td>\n",
              "      <td>170000000</td>\n",
              "      <td>0.000000e+00</td>\n",
              "      <td>Film &amp; Animation</td>\n",
              "      <td>youtubemovies</td>\n",
              "      <td>1</td>\n",
              "      <td>United States</td>\n",
              "      <td>US</td>\n",
              "      <td>Games</td>\n",
              "      <td>...</td>\n",
              "      <td>NaN</td>\n",
              "      <td>2006.0</td>\n",
              "      <td>Mar</td>\n",
              "      <td>5.0</td>\n",
              "      <td>88.2</td>\n",
              "      <td>3.282395e+08</td>\n",
              "      <td>14.70</td>\n",
              "      <td>270663028.0</td>\n",
              "      <td>37.090240</td>\n",
              "      <td>-95.712891</td>\n",
              "    </tr>\n",
              "    <tr>\n",
              "      <th>2</th>\n",
              "      <td>3</td>\n",
              "      <td>MrBeast</td>\n",
              "      <td>166000000</td>\n",
              "      <td>2.836884e+10</td>\n",
              "      <td>Entertainment</td>\n",
              "      <td>MrBeast</td>\n",
              "      <td>741</td>\n",
              "      <td>United States</td>\n",
              "      <td>US</td>\n",
              "      <td>Entertainment</td>\n",
              "      <td>...</td>\n",
              "      <td>8000000.0</td>\n",
              "      <td>2012.0</td>\n",
              "      <td>Feb</td>\n",
              "      <td>20.0</td>\n",
              "      <td>88.2</td>\n",
              "      <td>3.282395e+08</td>\n",
              "      <td>14.70</td>\n",
              "      <td>270663028.0</td>\n",
              "      <td>37.090240</td>\n",
              "      <td>-95.712891</td>\n",
              "    </tr>\n",
              "    <tr>\n",
              "      <th>3</th>\n",
              "      <td>4</td>\n",
              "      <td>Cocomelon - Nursery Rhymes</td>\n",
              "      <td>162000000</td>\n",
              "      <td>1.640000e+11</td>\n",
              "      <td>Education</td>\n",
              "      <td>Cocomelon - Nursery Rhymes</td>\n",
              "      <td>966</td>\n",
              "      <td>United States</td>\n",
              "      <td>US</td>\n",
              "      <td>Education</td>\n",
              "      <td>...</td>\n",
              "      <td>1000000.0</td>\n",
              "      <td>2006.0</td>\n",
              "      <td>Sep</td>\n",
              "      <td>1.0</td>\n",
              "      <td>88.2</td>\n",
              "      <td>3.282395e+08</td>\n",
              "      <td>14.70</td>\n",
              "      <td>270663028.0</td>\n",
              "      <td>37.090240</td>\n",
              "      <td>-95.712891</td>\n",
              "    </tr>\n",
              "    <tr>\n",
              "      <th>4</th>\n",
              "      <td>5</td>\n",
              "      <td>SET India</td>\n",
              "      <td>159000000</td>\n",
              "      <td>1.480000e+11</td>\n",
              "      <td>Shows</td>\n",
              "      <td>SET India</td>\n",
              "      <td>116536</td>\n",
              "      <td>India</td>\n",
              "      <td>IN</td>\n",
              "      <td>Entertainment</td>\n",
              "      <td>...</td>\n",
              "      <td>1000000.0</td>\n",
              "      <td>2006.0</td>\n",
              "      <td>Sep</td>\n",
              "      <td>20.0</td>\n",
              "      <td>28.1</td>\n",
              "      <td>1.366418e+09</td>\n",
              "      <td>5.36</td>\n",
              "      <td>471031528.0</td>\n",
              "      <td>20.593684</td>\n",
              "      <td>78.962880</td>\n",
              "    </tr>\n",
              "  </tbody>\n",
              "</table>\n",
              "<p>5 rows × 28 columns</p>\n",
              "</div>\n",
              "    <div class=\"colab-df-buttons\">\n",
              "\n",
              "  <div class=\"colab-df-container\">\n",
              "    <button class=\"colab-df-convert\" onclick=\"convertToInteractive('df-2706bdac-31b9-4d5f-a499-54e75bac9a43')\"\n",
              "            title=\"Convert this dataframe to an interactive table.\"\n",
              "            style=\"display:none;\">\n",
              "\n",
              "  <svg xmlns=\"http://www.w3.org/2000/svg\" height=\"24px\" viewBox=\"0 -960 960 960\">\n",
              "    <path d=\"M120-120v-720h720v720H120Zm60-500h600v-160H180v160Zm220 220h160v-160H400v160Zm0 220h160v-160H400v160ZM180-400h160v-160H180v160Zm440 0h160v-160H620v160ZM180-180h160v-160H180v160Zm440 0h160v-160H620v160Z\"/>\n",
              "  </svg>\n",
              "    </button>\n",
              "\n",
              "  <style>\n",
              "    .colab-df-container {\n",
              "      display:flex;\n",
              "      gap: 12px;\n",
              "    }\n",
              "\n",
              "    .colab-df-convert {\n",
              "      background-color: #E8F0FE;\n",
              "      border: none;\n",
              "      border-radius: 50%;\n",
              "      cursor: pointer;\n",
              "      display: none;\n",
              "      fill: #1967D2;\n",
              "      height: 32px;\n",
              "      padding: 0 0 0 0;\n",
              "      width: 32px;\n",
              "    }\n",
              "\n",
              "    .colab-df-convert:hover {\n",
              "      background-color: #E2EBFA;\n",
              "      box-shadow: 0px 1px 2px rgba(60, 64, 67, 0.3), 0px 1px 3px 1px rgba(60, 64, 67, 0.15);\n",
              "      fill: #174EA6;\n",
              "    }\n",
              "\n",
              "    .colab-df-buttons div {\n",
              "      margin-bottom: 4px;\n",
              "    }\n",
              "\n",
              "    [theme=dark] .colab-df-convert {\n",
              "      background-color: #3B4455;\n",
              "      fill: #D2E3FC;\n",
              "    }\n",
              "\n",
              "    [theme=dark] .colab-df-convert:hover {\n",
              "      background-color: #434B5C;\n",
              "      box-shadow: 0px 1px 3px 1px rgba(0, 0, 0, 0.15);\n",
              "      filter: drop-shadow(0px 1px 2px rgba(0, 0, 0, 0.3));\n",
              "      fill: #FFFFFF;\n",
              "    }\n",
              "  </style>\n",
              "\n",
              "    <script>\n",
              "      const buttonEl =\n",
              "        document.querySelector('#df-2706bdac-31b9-4d5f-a499-54e75bac9a43 button.colab-df-convert');\n",
              "      buttonEl.style.display =\n",
              "        google.colab.kernel.accessAllowed ? 'block' : 'none';\n",
              "\n",
              "      async function convertToInteractive(key) {\n",
              "        const element = document.querySelector('#df-2706bdac-31b9-4d5f-a499-54e75bac9a43');\n",
              "        const dataTable =\n",
              "          await google.colab.kernel.invokeFunction('convertToInteractive',\n",
              "                                                    [key], {});\n",
              "        if (!dataTable) return;\n",
              "\n",
              "        const docLinkHtml = 'Like what you see? Visit the ' +\n",
              "          '<a target=\"_blank\" href=https://colab.research.google.com/notebooks/data_table.ipynb>data table notebook</a>'\n",
              "          + ' to learn more about interactive tables.';\n",
              "        element.innerHTML = '';\n",
              "        dataTable['output_type'] = 'display_data';\n",
              "        await google.colab.output.renderOutput(dataTable, element);\n",
              "        const docLink = document.createElement('div');\n",
              "        docLink.innerHTML = docLinkHtml;\n",
              "        element.appendChild(docLink);\n",
              "      }\n",
              "    </script>\n",
              "  </div>\n",
              "\n",
              "\n",
              "<div id=\"df-b82ff0c7-dd44-455e-8992-64138673c4fd\">\n",
              "  <button class=\"colab-df-quickchart\" onclick=\"quickchart('df-b82ff0c7-dd44-455e-8992-64138673c4fd')\"\n",
              "            title=\"Suggest charts.\"\n",
              "            style=\"display:none;\">\n",
              "\n",
              "<svg xmlns=\"http://www.w3.org/2000/svg\" height=\"24px\"viewBox=\"0 0 24 24\"\n",
              "     width=\"24px\">\n",
              "    <g>\n",
              "        <path d=\"M19 3H5c-1.1 0-2 .9-2 2v14c0 1.1.9 2 2 2h14c1.1 0 2-.9 2-2V5c0-1.1-.9-2-2-2zM9 17H7v-7h2v7zm4 0h-2V7h2v10zm4 0h-2v-4h2v4z\"/>\n",
              "    </g>\n",
              "</svg>\n",
              "  </button>\n",
              "\n",
              "<style>\n",
              "  .colab-df-quickchart {\n",
              "    background-color: #E8F0FE;\n",
              "    border: none;\n",
              "    border-radius: 50%;\n",
              "    cursor: pointer;\n",
              "    display: none;\n",
              "    fill: #1967D2;\n",
              "    height: 32px;\n",
              "    padding: 0 0 0 0;\n",
              "    width: 32px;\n",
              "  }\n",
              "\n",
              "  .colab-df-quickchart:hover {\n",
              "    background-color: #E2EBFA;\n",
              "    box-shadow: 0px 1px 2px rgba(60, 64, 67, 0.3), 0px 1px 3px 1px rgba(60, 64, 67, 0.15);\n",
              "    fill: #174EA6;\n",
              "  }\n",
              "\n",
              "  [theme=dark] .colab-df-quickchart {\n",
              "    background-color: #3B4455;\n",
              "    fill: #D2E3FC;\n",
              "  }\n",
              "\n",
              "  [theme=dark] .colab-df-quickchart:hover {\n",
              "    background-color: #434B5C;\n",
              "    box-shadow: 0px 1px 3px 1px rgba(0, 0, 0, 0.15);\n",
              "    filter: drop-shadow(0px 1px 2px rgba(0, 0, 0, 0.3));\n",
              "    fill: #FFFFFF;\n",
              "  }\n",
              "</style>\n",
              "\n",
              "  <script>\n",
              "    async function quickchart(key) {\n",
              "      const charts = await google.colab.kernel.invokeFunction(\n",
              "          'suggestCharts', [key], {});\n",
              "    }\n",
              "    (() => {\n",
              "      let quickchartButtonEl =\n",
              "        document.querySelector('#df-b82ff0c7-dd44-455e-8992-64138673c4fd button');\n",
              "      quickchartButtonEl.style.display =\n",
              "        google.colab.kernel.accessAllowed ? 'block' : 'none';\n",
              "    })();\n",
              "  </script>\n",
              "</div>\n",
              "    </div>\n",
              "  </div>\n"
            ]
          },
          "metadata": {},
          "execution_count": 4
        }
      ]
    },
    {
      "cell_type": "code",
      "source": [
        "df.info()"
      ],
      "metadata": {
        "colab": {
          "base_uri": "https://localhost:8080/"
        },
        "id": "cjVe9HAS9F3Z",
        "outputId": "9a894975-3bbc-49e6-f7ba-894469df83ce"
      },
      "execution_count": 5,
      "outputs": [
        {
          "output_type": "stream",
          "name": "stdout",
          "text": [
            "<class 'pandas.core.frame.DataFrame'>\n",
            "RangeIndex: 995 entries, 0 to 994\n",
            "Data columns (total 28 columns):\n",
            " #   Column                                   Non-Null Count  Dtype  \n",
            "---  ------                                   --------------  -----  \n",
            " 0   rank                                     995 non-null    int64  \n",
            " 1   Youtuber                                 995 non-null    object \n",
            " 2   subscribers                              995 non-null    int64  \n",
            " 3   video views                              995 non-null    float64\n",
            " 4   category                                 949 non-null    object \n",
            " 5   Title                                    995 non-null    object \n",
            " 6   uploads                                  995 non-null    int64  \n",
            " 7   Country                                  873 non-null    object \n",
            " 8   Abbreviation                             873 non-null    object \n",
            " 9   channel_type                             965 non-null    object \n",
            " 10  video_views_rank                         994 non-null    float64\n",
            " 11  country_rank                             879 non-null    float64\n",
            " 12  channel_type_rank                        962 non-null    float64\n",
            " 13  video_views_for_the_last_30_days         939 non-null    float64\n",
            " 14  lowest_monthly_earnings                  995 non-null    float64\n",
            " 15  highest_monthly_earnings                 995 non-null    float64\n",
            " 16  lowest_yearly_earnings                   995 non-null    float64\n",
            " 17  highest_yearly_earnings                  995 non-null    float64\n",
            " 18  subscribers_for_last_30_days             658 non-null    float64\n",
            " 19  created_year                             990 non-null    float64\n",
            " 20  created_month                            990 non-null    object \n",
            " 21  created_date                             990 non-null    float64\n",
            " 22  Gross tertiary education enrollment (%)  872 non-null    float64\n",
            " 23  Population                               872 non-null    float64\n",
            " 24  Unemployment rate                        872 non-null    float64\n",
            " 25  Urban_population                         872 non-null    float64\n",
            " 26  Latitude                                 872 non-null    float64\n",
            " 27  Longitude                                872 non-null    float64\n",
            "dtypes: float64(18), int64(3), object(7)\n",
            "memory usage: 217.8+ KB\n"
          ]
        }
      ]
    },
    {
      "cell_type": "code",
      "source": [
        "df.describe(include='all')"
      ],
      "metadata": {
        "colab": {
          "base_uri": "https://localhost:8080/",
          "height": 0
        },
        "id": "SqJMoT7c9Jrj",
        "outputId": "39fc486d-1860-4221-bc00-10f561ac547f"
      },
      "execution_count": 6,
      "outputs": [
        {
          "output_type": "execute_result",
          "data": {
            "text/plain": [
              "             rank  Youtuber   subscribers   video views       category  \\\n",
              "count   995.00000       995  9.950000e+02  9.950000e+02            949   \n",
              "unique        NaN       995           NaN           NaN             18   \n",
              "top           NaN  T-Series           NaN           NaN  Entertainment   \n",
              "freq          NaN         1           NaN           NaN            241   \n",
              "mean    498.00000       NaN  2.298241e+07  1.103954e+10            NaN   \n",
              "std     287.37606       NaN  1.752611e+07  1.411084e+10            NaN   \n",
              "min       1.00000       NaN  1.230000e+07  0.000000e+00            NaN   \n",
              "25%     249.50000       NaN  1.450000e+07  4.288145e+09            NaN   \n",
              "50%     498.00000       NaN  1.770000e+07  7.760820e+09            NaN   \n",
              "75%     746.50000       NaN  2.460000e+07  1.355470e+10            NaN   \n",
              "max     995.00000       NaN  2.450000e+08  2.280000e+11            NaN   \n",
              "\n",
              "          Title        uploads        Country Abbreviation   channel_type  \\\n",
              "count       995     995.000000            873          873            965   \n",
              "unique      992            NaN             49           49             14   \n",
              "top     Preston            NaN  United States           US  Entertainment   \n",
              "freq          2            NaN            313          313            304   \n",
              "mean        NaN    9187.125628            NaN          NaN            NaN   \n",
              "std         NaN   34151.352254            NaN          NaN            NaN   \n",
              "min         NaN       0.000000            NaN          NaN            NaN   \n",
              "25%         NaN     194.500000            NaN          NaN            NaN   \n",
              "50%         NaN     729.000000            NaN          NaN            NaN   \n",
              "75%         NaN    2667.500000            NaN          NaN            NaN   \n",
              "max         NaN  301308.000000            NaN          NaN            NaN   \n",
              "\n",
              "        ...  subscribers_for_last_30_days  created_year  created_month  \\\n",
              "count   ...                  6.580000e+02    990.000000            990   \n",
              "unique  ...                           NaN           NaN             12   \n",
              "top     ...                           NaN           NaN            Jan   \n",
              "freq    ...                           NaN           NaN            101   \n",
              "mean    ...                  3.490791e+05   2012.630303            NaN   \n",
              "std     ...                  6.143554e+05      4.512503            NaN   \n",
              "min     ...                  1.000000e+00   1970.000000            NaN   \n",
              "25%     ...                  1.000000e+05   2009.000000            NaN   \n",
              "50%     ...                  2.000000e+05   2013.000000            NaN   \n",
              "75%     ...                  4.000000e+05   2016.000000            NaN   \n",
              "max     ...                  8.000000e+06   2022.000000            NaN   \n",
              "\n",
              "        created_date  Gross tertiary education enrollment (%)    Population  \\\n",
              "count     990.000000                               872.000000  8.720000e+02   \n",
              "unique           NaN                                      NaN           NaN   \n",
              "top              NaN                                      NaN           NaN   \n",
              "freq             NaN                                      NaN           NaN   \n",
              "mean       15.746465                                63.627752  4.303873e+08   \n",
              "std         8.777520                                26.106893  4.727947e+08   \n",
              "min         1.000000                                 7.600000  2.025060e+05   \n",
              "25%         8.000000                                36.300000  8.335541e+07   \n",
              "50%        16.000000                                68.000000  3.282395e+08   \n",
              "75%        23.000000                                88.200000  3.282395e+08   \n",
              "max        31.000000                               113.100000  1.397715e+09   \n",
              "\n",
              "        Unemployment rate  Urban_population    Latitude   Longitude  \n",
              "count          872.000000      8.720000e+02  872.000000  872.000000  \n",
              "unique                NaN               NaN         NaN         NaN  \n",
              "top                   NaN               NaN         NaN         NaN  \n",
              "freq                  NaN               NaN         NaN         NaN  \n",
              "mean             9.279278      2.242150e+08   26.632783  -14.128146  \n",
              "std              4.888354      1.546874e+08   20.560533   84.760809  \n",
              "min              0.750000      3.558800e+04  -38.416097 -172.104629  \n",
              "25%              5.270000      5.590832e+07   20.593684  -95.712891  \n",
              "50%              9.365000      2.706630e+08   37.090240  -51.925280  \n",
              "75%             14.700000      2.706630e+08   37.090240   78.962880  \n",
              "max             14.720000      8.429340e+08   61.924110  138.252924  \n",
              "\n",
              "[11 rows x 28 columns]"
            ],
            "text/html": [
              "\n",
              "  <div id=\"df-7a2d0993-5da5-4217-99ef-065523198ddb\" class=\"colab-df-container\">\n",
              "    <div>\n",
              "<style scoped>\n",
              "    .dataframe tbody tr th:only-of-type {\n",
              "        vertical-align: middle;\n",
              "    }\n",
              "\n",
              "    .dataframe tbody tr th {\n",
              "        vertical-align: top;\n",
              "    }\n",
              "\n",
              "    .dataframe thead th {\n",
              "        text-align: right;\n",
              "    }\n",
              "</style>\n",
              "<table border=\"1\" class=\"dataframe\">\n",
              "  <thead>\n",
              "    <tr style=\"text-align: right;\">\n",
              "      <th></th>\n",
              "      <th>rank</th>\n",
              "      <th>Youtuber</th>\n",
              "      <th>subscribers</th>\n",
              "      <th>video views</th>\n",
              "      <th>category</th>\n",
              "      <th>Title</th>\n",
              "      <th>uploads</th>\n",
              "      <th>Country</th>\n",
              "      <th>Abbreviation</th>\n",
              "      <th>channel_type</th>\n",
              "      <th>...</th>\n",
              "      <th>subscribers_for_last_30_days</th>\n",
              "      <th>created_year</th>\n",
              "      <th>created_month</th>\n",
              "      <th>created_date</th>\n",
              "      <th>Gross tertiary education enrollment (%)</th>\n",
              "      <th>Population</th>\n",
              "      <th>Unemployment rate</th>\n",
              "      <th>Urban_population</th>\n",
              "      <th>Latitude</th>\n",
              "      <th>Longitude</th>\n",
              "    </tr>\n",
              "  </thead>\n",
              "  <tbody>\n",
              "    <tr>\n",
              "      <th>count</th>\n",
              "      <td>995.00000</td>\n",
              "      <td>995</td>\n",
              "      <td>9.950000e+02</td>\n",
              "      <td>9.950000e+02</td>\n",
              "      <td>949</td>\n",
              "      <td>995</td>\n",
              "      <td>995.000000</td>\n",
              "      <td>873</td>\n",
              "      <td>873</td>\n",
              "      <td>965</td>\n",
              "      <td>...</td>\n",
              "      <td>6.580000e+02</td>\n",
              "      <td>990.000000</td>\n",
              "      <td>990</td>\n",
              "      <td>990.000000</td>\n",
              "      <td>872.000000</td>\n",
              "      <td>8.720000e+02</td>\n",
              "      <td>872.000000</td>\n",
              "      <td>8.720000e+02</td>\n",
              "      <td>872.000000</td>\n",
              "      <td>872.000000</td>\n",
              "    </tr>\n",
              "    <tr>\n",
              "      <th>unique</th>\n",
              "      <td>NaN</td>\n",
              "      <td>995</td>\n",
              "      <td>NaN</td>\n",
              "      <td>NaN</td>\n",
              "      <td>18</td>\n",
              "      <td>992</td>\n",
              "      <td>NaN</td>\n",
              "      <td>49</td>\n",
              "      <td>49</td>\n",
              "      <td>14</td>\n",
              "      <td>...</td>\n",
              "      <td>NaN</td>\n",
              "      <td>NaN</td>\n",
              "      <td>12</td>\n",
              "      <td>NaN</td>\n",
              "      <td>NaN</td>\n",
              "      <td>NaN</td>\n",
              "      <td>NaN</td>\n",
              "      <td>NaN</td>\n",
              "      <td>NaN</td>\n",
              "      <td>NaN</td>\n",
              "    </tr>\n",
              "    <tr>\n",
              "      <th>top</th>\n",
              "      <td>NaN</td>\n",
              "      <td>T-Series</td>\n",
              "      <td>NaN</td>\n",
              "      <td>NaN</td>\n",
              "      <td>Entertainment</td>\n",
              "      <td>Preston</td>\n",
              "      <td>NaN</td>\n",
              "      <td>United States</td>\n",
              "      <td>US</td>\n",
              "      <td>Entertainment</td>\n",
              "      <td>...</td>\n",
              "      <td>NaN</td>\n",
              "      <td>NaN</td>\n",
              "      <td>Jan</td>\n",
              "      <td>NaN</td>\n",
              "      <td>NaN</td>\n",
              "      <td>NaN</td>\n",
              "      <td>NaN</td>\n",
              "      <td>NaN</td>\n",
              "      <td>NaN</td>\n",
              "      <td>NaN</td>\n",
              "    </tr>\n",
              "    <tr>\n",
              "      <th>freq</th>\n",
              "      <td>NaN</td>\n",
              "      <td>1</td>\n",
              "      <td>NaN</td>\n",
              "      <td>NaN</td>\n",
              "      <td>241</td>\n",
              "      <td>2</td>\n",
              "      <td>NaN</td>\n",
              "      <td>313</td>\n",
              "      <td>313</td>\n",
              "      <td>304</td>\n",
              "      <td>...</td>\n",
              "      <td>NaN</td>\n",
              "      <td>NaN</td>\n",
              "      <td>101</td>\n",
              "      <td>NaN</td>\n",
              "      <td>NaN</td>\n",
              "      <td>NaN</td>\n",
              "      <td>NaN</td>\n",
              "      <td>NaN</td>\n",
              "      <td>NaN</td>\n",
              "      <td>NaN</td>\n",
              "    </tr>\n",
              "    <tr>\n",
              "      <th>mean</th>\n",
              "      <td>498.00000</td>\n",
              "      <td>NaN</td>\n",
              "      <td>2.298241e+07</td>\n",
              "      <td>1.103954e+10</td>\n",
              "      <td>NaN</td>\n",
              "      <td>NaN</td>\n",
              "      <td>9187.125628</td>\n",
              "      <td>NaN</td>\n",
              "      <td>NaN</td>\n",
              "      <td>NaN</td>\n",
              "      <td>...</td>\n",
              "      <td>3.490791e+05</td>\n",
              "      <td>2012.630303</td>\n",
              "      <td>NaN</td>\n",
              "      <td>15.746465</td>\n",
              "      <td>63.627752</td>\n",
              "      <td>4.303873e+08</td>\n",
              "      <td>9.279278</td>\n",
              "      <td>2.242150e+08</td>\n",
              "      <td>26.632783</td>\n",
              "      <td>-14.128146</td>\n",
              "    </tr>\n",
              "    <tr>\n",
              "      <th>std</th>\n",
              "      <td>287.37606</td>\n",
              "      <td>NaN</td>\n",
              "      <td>1.752611e+07</td>\n",
              "      <td>1.411084e+10</td>\n",
              "      <td>NaN</td>\n",
              "      <td>NaN</td>\n",
              "      <td>34151.352254</td>\n",
              "      <td>NaN</td>\n",
              "      <td>NaN</td>\n",
              "      <td>NaN</td>\n",
              "      <td>...</td>\n",
              "      <td>6.143554e+05</td>\n",
              "      <td>4.512503</td>\n",
              "      <td>NaN</td>\n",
              "      <td>8.777520</td>\n",
              "      <td>26.106893</td>\n",
              "      <td>4.727947e+08</td>\n",
              "      <td>4.888354</td>\n",
              "      <td>1.546874e+08</td>\n",
              "      <td>20.560533</td>\n",
              "      <td>84.760809</td>\n",
              "    </tr>\n",
              "    <tr>\n",
              "      <th>min</th>\n",
              "      <td>1.00000</td>\n",
              "      <td>NaN</td>\n",
              "      <td>1.230000e+07</td>\n",
              "      <td>0.000000e+00</td>\n",
              "      <td>NaN</td>\n",
              "      <td>NaN</td>\n",
              "      <td>0.000000</td>\n",
              "      <td>NaN</td>\n",
              "      <td>NaN</td>\n",
              "      <td>NaN</td>\n",
              "      <td>...</td>\n",
              "      <td>1.000000e+00</td>\n",
              "      <td>1970.000000</td>\n",
              "      <td>NaN</td>\n",
              "      <td>1.000000</td>\n",
              "      <td>7.600000</td>\n",
              "      <td>2.025060e+05</td>\n",
              "      <td>0.750000</td>\n",
              "      <td>3.558800e+04</td>\n",
              "      <td>-38.416097</td>\n",
              "      <td>-172.104629</td>\n",
              "    </tr>\n",
              "    <tr>\n",
              "      <th>25%</th>\n",
              "      <td>249.50000</td>\n",
              "      <td>NaN</td>\n",
              "      <td>1.450000e+07</td>\n",
              "      <td>4.288145e+09</td>\n",
              "      <td>NaN</td>\n",
              "      <td>NaN</td>\n",
              "      <td>194.500000</td>\n",
              "      <td>NaN</td>\n",
              "      <td>NaN</td>\n",
              "      <td>NaN</td>\n",
              "      <td>...</td>\n",
              "      <td>1.000000e+05</td>\n",
              "      <td>2009.000000</td>\n",
              "      <td>NaN</td>\n",
              "      <td>8.000000</td>\n",
              "      <td>36.300000</td>\n",
              "      <td>8.335541e+07</td>\n",
              "      <td>5.270000</td>\n",
              "      <td>5.590832e+07</td>\n",
              "      <td>20.593684</td>\n",
              "      <td>-95.712891</td>\n",
              "    </tr>\n",
              "    <tr>\n",
              "      <th>50%</th>\n",
              "      <td>498.00000</td>\n",
              "      <td>NaN</td>\n",
              "      <td>1.770000e+07</td>\n",
              "      <td>7.760820e+09</td>\n",
              "      <td>NaN</td>\n",
              "      <td>NaN</td>\n",
              "      <td>729.000000</td>\n",
              "      <td>NaN</td>\n",
              "      <td>NaN</td>\n",
              "      <td>NaN</td>\n",
              "      <td>...</td>\n",
              "      <td>2.000000e+05</td>\n",
              "      <td>2013.000000</td>\n",
              "      <td>NaN</td>\n",
              "      <td>16.000000</td>\n",
              "      <td>68.000000</td>\n",
              "      <td>3.282395e+08</td>\n",
              "      <td>9.365000</td>\n",
              "      <td>2.706630e+08</td>\n",
              "      <td>37.090240</td>\n",
              "      <td>-51.925280</td>\n",
              "    </tr>\n",
              "    <tr>\n",
              "      <th>75%</th>\n",
              "      <td>746.50000</td>\n",
              "      <td>NaN</td>\n",
              "      <td>2.460000e+07</td>\n",
              "      <td>1.355470e+10</td>\n",
              "      <td>NaN</td>\n",
              "      <td>NaN</td>\n",
              "      <td>2667.500000</td>\n",
              "      <td>NaN</td>\n",
              "      <td>NaN</td>\n",
              "      <td>NaN</td>\n",
              "      <td>...</td>\n",
              "      <td>4.000000e+05</td>\n",
              "      <td>2016.000000</td>\n",
              "      <td>NaN</td>\n",
              "      <td>23.000000</td>\n",
              "      <td>88.200000</td>\n",
              "      <td>3.282395e+08</td>\n",
              "      <td>14.700000</td>\n",
              "      <td>2.706630e+08</td>\n",
              "      <td>37.090240</td>\n",
              "      <td>78.962880</td>\n",
              "    </tr>\n",
              "    <tr>\n",
              "      <th>max</th>\n",
              "      <td>995.00000</td>\n",
              "      <td>NaN</td>\n",
              "      <td>2.450000e+08</td>\n",
              "      <td>2.280000e+11</td>\n",
              "      <td>NaN</td>\n",
              "      <td>NaN</td>\n",
              "      <td>301308.000000</td>\n",
              "      <td>NaN</td>\n",
              "      <td>NaN</td>\n",
              "      <td>NaN</td>\n",
              "      <td>...</td>\n",
              "      <td>8.000000e+06</td>\n",
              "      <td>2022.000000</td>\n",
              "      <td>NaN</td>\n",
              "      <td>31.000000</td>\n",
              "      <td>113.100000</td>\n",
              "      <td>1.397715e+09</td>\n",
              "      <td>14.720000</td>\n",
              "      <td>8.429340e+08</td>\n",
              "      <td>61.924110</td>\n",
              "      <td>138.252924</td>\n",
              "    </tr>\n",
              "  </tbody>\n",
              "</table>\n",
              "<p>11 rows × 28 columns</p>\n",
              "</div>\n",
              "    <div class=\"colab-df-buttons\">\n",
              "\n",
              "  <div class=\"colab-df-container\">\n",
              "    <button class=\"colab-df-convert\" onclick=\"convertToInteractive('df-7a2d0993-5da5-4217-99ef-065523198ddb')\"\n",
              "            title=\"Convert this dataframe to an interactive table.\"\n",
              "            style=\"display:none;\">\n",
              "\n",
              "  <svg xmlns=\"http://www.w3.org/2000/svg\" height=\"24px\" viewBox=\"0 -960 960 960\">\n",
              "    <path d=\"M120-120v-720h720v720H120Zm60-500h600v-160H180v160Zm220 220h160v-160H400v160Zm0 220h160v-160H400v160ZM180-400h160v-160H180v160Zm440 0h160v-160H620v160ZM180-180h160v-160H180v160Zm440 0h160v-160H620v160Z\"/>\n",
              "  </svg>\n",
              "    </button>\n",
              "\n",
              "  <style>\n",
              "    .colab-df-container {\n",
              "      display:flex;\n",
              "      gap: 12px;\n",
              "    }\n",
              "\n",
              "    .colab-df-convert {\n",
              "      background-color: #E8F0FE;\n",
              "      border: none;\n",
              "      border-radius: 50%;\n",
              "      cursor: pointer;\n",
              "      display: none;\n",
              "      fill: #1967D2;\n",
              "      height: 32px;\n",
              "      padding: 0 0 0 0;\n",
              "      width: 32px;\n",
              "    }\n",
              "\n",
              "    .colab-df-convert:hover {\n",
              "      background-color: #E2EBFA;\n",
              "      box-shadow: 0px 1px 2px rgba(60, 64, 67, 0.3), 0px 1px 3px 1px rgba(60, 64, 67, 0.15);\n",
              "      fill: #174EA6;\n",
              "    }\n",
              "\n",
              "    .colab-df-buttons div {\n",
              "      margin-bottom: 4px;\n",
              "    }\n",
              "\n",
              "    [theme=dark] .colab-df-convert {\n",
              "      background-color: #3B4455;\n",
              "      fill: #D2E3FC;\n",
              "    }\n",
              "\n",
              "    [theme=dark] .colab-df-convert:hover {\n",
              "      background-color: #434B5C;\n",
              "      box-shadow: 0px 1px 3px 1px rgba(0, 0, 0, 0.15);\n",
              "      filter: drop-shadow(0px 1px 2px rgba(0, 0, 0, 0.3));\n",
              "      fill: #FFFFFF;\n",
              "    }\n",
              "  </style>\n",
              "\n",
              "    <script>\n",
              "      const buttonEl =\n",
              "        document.querySelector('#df-7a2d0993-5da5-4217-99ef-065523198ddb button.colab-df-convert');\n",
              "      buttonEl.style.display =\n",
              "        google.colab.kernel.accessAllowed ? 'block' : 'none';\n",
              "\n",
              "      async function convertToInteractive(key) {\n",
              "        const element = document.querySelector('#df-7a2d0993-5da5-4217-99ef-065523198ddb');\n",
              "        const dataTable =\n",
              "          await google.colab.kernel.invokeFunction('convertToInteractive',\n",
              "                                                    [key], {});\n",
              "        if (!dataTable) return;\n",
              "\n",
              "        const docLinkHtml = 'Like what you see? Visit the ' +\n",
              "          '<a target=\"_blank\" href=https://colab.research.google.com/notebooks/data_table.ipynb>data table notebook</a>'\n",
              "          + ' to learn more about interactive tables.';\n",
              "        element.innerHTML = '';\n",
              "        dataTable['output_type'] = 'display_data';\n",
              "        await google.colab.output.renderOutput(dataTable, element);\n",
              "        const docLink = document.createElement('div');\n",
              "        docLink.innerHTML = docLinkHtml;\n",
              "        element.appendChild(docLink);\n",
              "      }\n",
              "    </script>\n",
              "  </div>\n",
              "\n",
              "\n",
              "<div id=\"df-d3bf7a96-6541-4170-856d-9bd77d796036\">\n",
              "  <button class=\"colab-df-quickchart\" onclick=\"quickchart('df-d3bf7a96-6541-4170-856d-9bd77d796036')\"\n",
              "            title=\"Suggest charts.\"\n",
              "            style=\"display:none;\">\n",
              "\n",
              "<svg xmlns=\"http://www.w3.org/2000/svg\" height=\"24px\"viewBox=\"0 0 24 24\"\n",
              "     width=\"24px\">\n",
              "    <g>\n",
              "        <path d=\"M19 3H5c-1.1 0-2 .9-2 2v14c0 1.1.9 2 2 2h14c1.1 0 2-.9 2-2V5c0-1.1-.9-2-2-2zM9 17H7v-7h2v7zm4 0h-2V7h2v10zm4 0h-2v-4h2v4z\"/>\n",
              "    </g>\n",
              "</svg>\n",
              "  </button>\n",
              "\n",
              "<style>\n",
              "  .colab-df-quickchart {\n",
              "    background-color: #E8F0FE;\n",
              "    border: none;\n",
              "    border-radius: 50%;\n",
              "    cursor: pointer;\n",
              "    display: none;\n",
              "    fill: #1967D2;\n",
              "    height: 32px;\n",
              "    padding: 0 0 0 0;\n",
              "    width: 32px;\n",
              "  }\n",
              "\n",
              "  .colab-df-quickchart:hover {\n",
              "    background-color: #E2EBFA;\n",
              "    box-shadow: 0px 1px 2px rgba(60, 64, 67, 0.3), 0px 1px 3px 1px rgba(60, 64, 67, 0.15);\n",
              "    fill: #174EA6;\n",
              "  }\n",
              "\n",
              "  [theme=dark] .colab-df-quickchart {\n",
              "    background-color: #3B4455;\n",
              "    fill: #D2E3FC;\n",
              "  }\n",
              "\n",
              "  [theme=dark] .colab-df-quickchart:hover {\n",
              "    background-color: #434B5C;\n",
              "    box-shadow: 0px 1px 3px 1px rgba(0, 0, 0, 0.15);\n",
              "    filter: drop-shadow(0px 1px 2px rgba(0, 0, 0, 0.3));\n",
              "    fill: #FFFFFF;\n",
              "  }\n",
              "</style>\n",
              "\n",
              "  <script>\n",
              "    async function quickchart(key) {\n",
              "      const charts = await google.colab.kernel.invokeFunction(\n",
              "          'suggestCharts', [key], {});\n",
              "    }\n",
              "    (() => {\n",
              "      let quickchartButtonEl =\n",
              "        document.querySelector('#df-d3bf7a96-6541-4170-856d-9bd77d796036 button');\n",
              "      quickchartButtonEl.style.display =\n",
              "        google.colab.kernel.accessAllowed ? 'block' : 'none';\n",
              "    })();\n",
              "  </script>\n",
              "</div>\n",
              "    </div>\n",
              "  </div>\n"
            ]
          },
          "metadata": {},
          "execution_count": 6
        }
      ]
    },
    {
      "cell_type": "markdown",
      "source": [
        "#Null values"
      ],
      "metadata": {
        "id": "-IkHoAjUlDNR"
      }
    },
    {
      "cell_type": "markdown",
      "source": [
        "## Null values"
      ],
      "metadata": {
        "id": "c8pXozkx-cw7"
      }
    },
    {
      "cell_type": "code",
      "source": [
        "df.drop(['Latitude', 'Longitude','country_rank','channel_type_rank'], axis=1, inplace=True)"
      ],
      "metadata": {
        "id": "kELvPR1thmIL"
      },
      "execution_count": 7,
      "outputs": []
    },
    {
      "cell_type": "code",
      "source": [
        "df_copy = df.copy()"
      ],
      "metadata": {
        "id": "sKS4IpJi-gLO"
      },
      "execution_count": 8,
      "outputs": []
    },
    {
      "cell_type": "code",
      "source": [
        "columns = df.columns"
      ],
      "metadata": {
        "id": "Xc0BBd9w-Z-C"
      },
      "execution_count": 9,
      "outputs": []
    },
    {
      "cell_type": "code",
      "source": [
        "for i in columns:\n",
        "  print(i, df[i].nunique())"
      ],
      "metadata": {
        "colab": {
          "base_uri": "https://localhost:8080/"
        },
        "id": "Seb9eESb-w9n",
        "outputId": "15d7dec6-0205-4d30-b035-97d8b564a95b"
      },
      "execution_count": 10,
      "outputs": [
        {
          "output_type": "stream",
          "name": "stdout",
          "text": [
            "rank 995\n",
            "Youtuber 995\n",
            "subscribers 289\n",
            "video views 988\n",
            "category 18\n",
            "Title 992\n",
            "uploads 777\n",
            "Country 49\n",
            "Abbreviation 49\n",
            "channel_type 14\n",
            "video_views_rank 953\n",
            "video_views_for_the_last_30_days 908\n",
            "lowest_monthly_earnings 557\n",
            "highest_monthly_earnings 736\n",
            "lowest_yearly_earnings 757\n",
            "highest_yearly_earnings 419\n",
            "subscribers_for_last_30_days 53\n",
            "created_year 19\n",
            "created_month 12\n",
            "created_date 31\n",
            "Gross tertiary education enrollment (%) 47\n",
            "Population 48\n",
            "Unemployment rate 47\n",
            "Urban_population 48\n"
          ]
        }
      ]
    },
    {
      "cell_type": "markdown",
      "source": [
        "As we can see category, created month, channel_type, are categorical column, others are numerical or datetime column."
      ],
      "metadata": {
        "id": "avwjgkWj_9UB"
      }
    },
    {
      "cell_type": "code",
      "source": [
        "categorical = ['created_year','created_month','created_date', 'channel_type', 'category', 'Country','Abbreviation']"
      ],
      "metadata": {
        "id": "t02dIZv9BQBo"
      },
      "execution_count": 11,
      "outputs": []
    },
    {
      "cell_type": "code",
      "source": [
        "pd.set_option('display.max_columns', None)"
      ],
      "metadata": {
        "id": "wZMB6nUSB2fu"
      },
      "execution_count": 12,
      "outputs": []
    },
    {
      "cell_type": "code",
      "source": [
        "df_categorical = df[categorical]"
      ],
      "metadata": {
        "id": "lt14ig-__8wU"
      },
      "execution_count": 13,
      "outputs": []
    },
    {
      "cell_type": "code",
      "source": [
        "df_categorical.isnull().sum()"
      ],
      "metadata": {
        "colab": {
          "base_uri": "https://localhost:8080/"
        },
        "id": "DnPT29txCh09",
        "outputId": "b4e5e5f4-89ce-4d34-9526-d62d9a53c36f"
      },
      "execution_count": 14,
      "outputs": [
        {
          "output_type": "execute_result",
          "data": {
            "text/plain": [
              "created_year       5\n",
              "created_month      5\n",
              "created_date       5\n",
              "channel_type      30\n",
              "category          46\n",
              "Country          122\n",
              "Abbreviation     122\n",
              "dtype: int64"
            ]
          },
          "metadata": {},
          "execution_count": 14
        }
      ]
    },
    {
      "cell_type": "code",
      "source": [
        "mode_value = df_categorical['created_year'].mode().iloc[0]\n",
        "print(mode_value)"
      ],
      "metadata": {
        "colab": {
          "base_uri": "https://localhost:8080/"
        },
        "id": "fngEBap4IM3D",
        "outputId": "a4a69d00-4bff-4103-866e-8d34b517fc7f"
      },
      "execution_count": 15,
      "outputs": [
        {
          "output_type": "stream",
          "name": "stdout",
          "text": [
            "2014.0\n"
          ]
        }
      ]
    },
    {
      "cell_type": "code",
      "source": [
        "for i in categorical:\n",
        "  mode_value = df_categorical[i].mode().iloc[0]\n",
        "  df_categorical.loc[:, i].fillna(mode_value, inplace=True)"
      ],
      "metadata": {
        "colab": {
          "base_uri": "https://localhost:8080/"
        },
        "id": "5_dJvStbCr1T",
        "outputId": "fdad78a4-83a6-4a78-ee10-ec27e3393326"
      },
      "execution_count": 16,
      "outputs": [
        {
          "output_type": "stream",
          "name": "stderr",
          "text": [
            "<ipython-input-16-aa7aad920610>:3: SettingWithCopyWarning: \n",
            "A value is trying to be set on a copy of a slice from a DataFrame\n",
            "\n",
            "See the caveats in the documentation: https://pandas.pydata.org/pandas-docs/stable/user_guide/indexing.html#returning-a-view-versus-a-copy\n",
            "  df_categorical.loc[:, i].fillna(mode_value, inplace=True)\n",
            "<ipython-input-16-aa7aad920610>:3: SettingWithCopyWarning: \n",
            "A value is trying to be set on a copy of a slice from a DataFrame\n",
            "\n",
            "See the caveats in the documentation: https://pandas.pydata.org/pandas-docs/stable/user_guide/indexing.html#returning-a-view-versus-a-copy\n",
            "  df_categorical.loc[:, i].fillna(mode_value, inplace=True)\n",
            "<ipython-input-16-aa7aad920610>:3: SettingWithCopyWarning: \n",
            "A value is trying to be set on a copy of a slice from a DataFrame\n",
            "\n",
            "See the caveats in the documentation: https://pandas.pydata.org/pandas-docs/stable/user_guide/indexing.html#returning-a-view-versus-a-copy\n",
            "  df_categorical.loc[:, i].fillna(mode_value, inplace=True)\n",
            "<ipython-input-16-aa7aad920610>:3: SettingWithCopyWarning: \n",
            "A value is trying to be set on a copy of a slice from a DataFrame\n",
            "\n",
            "See the caveats in the documentation: https://pandas.pydata.org/pandas-docs/stable/user_guide/indexing.html#returning-a-view-versus-a-copy\n",
            "  df_categorical.loc[:, i].fillna(mode_value, inplace=True)\n",
            "<ipython-input-16-aa7aad920610>:3: SettingWithCopyWarning: \n",
            "A value is trying to be set on a copy of a slice from a DataFrame\n",
            "\n",
            "See the caveats in the documentation: https://pandas.pydata.org/pandas-docs/stable/user_guide/indexing.html#returning-a-view-versus-a-copy\n",
            "  df_categorical.loc[:, i].fillna(mode_value, inplace=True)\n",
            "<ipython-input-16-aa7aad920610>:3: SettingWithCopyWarning: \n",
            "A value is trying to be set on a copy of a slice from a DataFrame\n",
            "\n",
            "See the caveats in the documentation: https://pandas.pydata.org/pandas-docs/stable/user_guide/indexing.html#returning-a-view-versus-a-copy\n",
            "  df_categorical.loc[:, i].fillna(mode_value, inplace=True)\n",
            "<ipython-input-16-aa7aad920610>:3: SettingWithCopyWarning: \n",
            "A value is trying to be set on a copy of a slice from a DataFrame\n",
            "\n",
            "See the caveats in the documentation: https://pandas.pydata.org/pandas-docs/stable/user_guide/indexing.html#returning-a-view-versus-a-copy\n",
            "  df_categorical.loc[:, i].fillna(mode_value, inplace=True)\n"
          ]
        }
      ]
    },
    {
      "cell_type": "code",
      "source": [
        "df.isnull().sum()"
      ],
      "metadata": {
        "colab": {
          "base_uri": "https://localhost:8080/"
        },
        "id": "nlcTna6SDHGL",
        "outputId": "19ad525e-a336-4bdc-d895-2614ea067f32"
      },
      "execution_count": 17,
      "outputs": [
        {
          "output_type": "execute_result",
          "data": {
            "text/plain": [
              "rank                                         0\n",
              "Youtuber                                     0\n",
              "subscribers                                  0\n",
              "video views                                  0\n",
              "category                                    46\n",
              "Title                                        0\n",
              "uploads                                      0\n",
              "Country                                    122\n",
              "Abbreviation                               122\n",
              "channel_type                                30\n",
              "video_views_rank                             1\n",
              "video_views_for_the_last_30_days            56\n",
              "lowest_monthly_earnings                      0\n",
              "highest_monthly_earnings                     0\n",
              "lowest_yearly_earnings                       0\n",
              "highest_yearly_earnings                      0\n",
              "subscribers_for_last_30_days               337\n",
              "created_year                                 5\n",
              "created_month                                5\n",
              "created_date                                 5\n",
              "Gross tertiary education enrollment (%)    123\n",
              "Population                                 123\n",
              "Unemployment rate                          123\n",
              "Urban_population                           123\n",
              "dtype: int64"
            ]
          },
          "metadata": {},
          "execution_count": 17
        }
      ]
    },
    {
      "cell_type": "code",
      "source": [
        "numerical = ['video_views_for_the_last_30_days','subscribers_for_last_30_days', 'Gross tertiary education enrollment (%)', 'Population', 'Unemployment rate', 'Urban_population']"
      ],
      "metadata": {
        "id": "KNnsgxe2JCOQ"
      },
      "execution_count": 18,
      "outputs": []
    },
    {
      "cell_type": "code",
      "source": [
        "for i in numerical:\n",
        "  mean_value = df[i].mean()\n",
        "  df.loc[:, i].fillna(mean_value, inplace=True)"
      ],
      "metadata": {
        "id": "vaIRAnQBzFvQ"
      },
      "execution_count": 19,
      "outputs": []
    },
    {
      "cell_type": "code",
      "source": [
        "df.drop(categorical, axis=1, inplace=True)\n"
      ],
      "metadata": {
        "id": "NJAp4e0h2Nd5"
      },
      "execution_count": 20,
      "outputs": []
    },
    {
      "cell_type": "code",
      "source": [
        "df = pd.concat([df, df_categorical], axis=1)"
      ],
      "metadata": {
        "id": "kKHnCUCb2n9O"
      },
      "execution_count": 21,
      "outputs": []
    },
    {
      "cell_type": "code",
      "source": [
        "df.dropna(axis=0, inplace=True)\n"
      ],
      "metadata": {
        "id": "OyoefsDG2vwR"
      },
      "execution_count": 22,
      "outputs": []
    },
    {
      "cell_type": "code",
      "source": [
        "df.isnull().sum()"
      ],
      "metadata": {
        "colab": {
          "base_uri": "https://localhost:8080/"
        },
        "id": "9tj1szc12vWV",
        "outputId": "64e2b814-5aa0-4477-9bba-aedf66229b5c"
      },
      "execution_count": 23,
      "outputs": [
        {
          "output_type": "execute_result",
          "data": {
            "text/plain": [
              "rank                                       0\n",
              "Youtuber                                   0\n",
              "subscribers                                0\n",
              "video views                                0\n",
              "Title                                      0\n",
              "uploads                                    0\n",
              "video_views_rank                           0\n",
              "video_views_for_the_last_30_days           0\n",
              "lowest_monthly_earnings                    0\n",
              "highest_monthly_earnings                   0\n",
              "lowest_yearly_earnings                     0\n",
              "highest_yearly_earnings                    0\n",
              "subscribers_for_last_30_days               0\n",
              "Gross tertiary education enrollment (%)    0\n",
              "Population                                 0\n",
              "Unemployment rate                          0\n",
              "Urban_population                           0\n",
              "created_year                               0\n",
              "created_month                              0\n",
              "created_date                               0\n",
              "channel_type                               0\n",
              "category                                   0\n",
              "Country                                    0\n",
              "Abbreviation                               0\n",
              "dtype: int64"
            ]
          },
          "metadata": {},
          "execution_count": 23
        }
      ]
    },
    {
      "cell_type": "markdown",
      "source": [
        "##Ffill method"
      ],
      "metadata": {
        "id": "WlsbMjxj4BMf"
      }
    },
    {
      "cell_type": "code",
      "source": [
        "df = df_copy.copy()"
      ],
      "metadata": {
        "id": "X_pAQ8jm7mIk"
      },
      "execution_count": 24,
      "outputs": []
    },
    {
      "cell_type": "code",
      "source": [
        "df.isnull().sum()"
      ],
      "metadata": {
        "colab": {
          "base_uri": "https://localhost:8080/"
        },
        "id": "NdTLP6HE7qLd",
        "outputId": "44eeac48-825c-4cb5-bd8f-5c35325c754b"
      },
      "execution_count": 25,
      "outputs": [
        {
          "output_type": "execute_result",
          "data": {
            "text/plain": [
              "rank                                         0\n",
              "Youtuber                                     0\n",
              "subscribers                                  0\n",
              "video views                                  0\n",
              "category                                    46\n",
              "Title                                        0\n",
              "uploads                                      0\n",
              "Country                                    122\n",
              "Abbreviation                               122\n",
              "channel_type                                30\n",
              "video_views_rank                             1\n",
              "video_views_for_the_last_30_days            56\n",
              "lowest_monthly_earnings                      0\n",
              "highest_monthly_earnings                     0\n",
              "lowest_yearly_earnings                       0\n",
              "highest_yearly_earnings                      0\n",
              "subscribers_for_last_30_days               337\n",
              "created_year                                 5\n",
              "created_month                                5\n",
              "created_date                                 5\n",
              "Gross tertiary education enrollment (%)    123\n",
              "Population                                 123\n",
              "Unemployment rate                          123\n",
              "Urban_population                           123\n",
              "dtype: int64"
            ]
          },
          "metadata": {},
          "execution_count": 25
        }
      ]
    },
    {
      "cell_type": "code",
      "source": [
        "df = df.ffill()"
      ],
      "metadata": {
        "id": "P2L0mvY77r0d"
      },
      "execution_count": 26,
      "outputs": []
    },
    {
      "cell_type": "markdown",
      "source": [
        "##Bfill method"
      ],
      "metadata": {
        "id": "LB-aTjvO8CTN"
      }
    },
    {
      "cell_type": "code",
      "source": [
        "df = df_copy.copy()"
      ],
      "metadata": {
        "id": "Hvkou0qu8GZb"
      },
      "execution_count": 27,
      "outputs": []
    },
    {
      "cell_type": "code",
      "source": [
        "df.isnull().sum()"
      ],
      "metadata": {
        "colab": {
          "base_uri": "https://localhost:8080/"
        },
        "id": "DnNNiMfB8I6A",
        "outputId": "65dec290-ac05-4f2e-be03-501eb3d8a508"
      },
      "execution_count": 28,
      "outputs": [
        {
          "output_type": "execute_result",
          "data": {
            "text/plain": [
              "rank                                         0\n",
              "Youtuber                                     0\n",
              "subscribers                                  0\n",
              "video views                                  0\n",
              "category                                    46\n",
              "Title                                        0\n",
              "uploads                                      0\n",
              "Country                                    122\n",
              "Abbreviation                               122\n",
              "channel_type                                30\n",
              "video_views_rank                             1\n",
              "video_views_for_the_last_30_days            56\n",
              "lowest_monthly_earnings                      0\n",
              "highest_monthly_earnings                     0\n",
              "lowest_yearly_earnings                       0\n",
              "highest_yearly_earnings                      0\n",
              "subscribers_for_last_30_days               337\n",
              "created_year                                 5\n",
              "created_month                                5\n",
              "created_date                                 5\n",
              "Gross tertiary education enrollment (%)    123\n",
              "Population                                 123\n",
              "Unemployment rate                          123\n",
              "Urban_population                           123\n",
              "dtype: int64"
            ]
          },
          "metadata": {},
          "execution_count": 28
        }
      ]
    },
    {
      "cell_type": "code",
      "source": [
        "df = df.bfill()"
      ],
      "metadata": {
        "id": "pt7Ve7Py8MHi"
      },
      "execution_count": 29,
      "outputs": []
    },
    {
      "cell_type": "markdown",
      "source": [
        "## Knnimputation"
      ],
      "metadata": {
        "id": "al0-NOpUf7hO"
      }
    },
    {
      "cell_type": "code",
      "source": [
        "df = df_copy.copy()"
      ],
      "metadata": {
        "id": "Z_bvMDbiglx_"
      },
      "execution_count": 30,
      "outputs": []
    },
    {
      "cell_type": "code",
      "source": [
        "df.isnull().sum()"
      ],
      "metadata": {
        "colab": {
          "base_uri": "https://localhost:8080/"
        },
        "id": "a2Sq4fIRh389",
        "outputId": "a1dcc1e4-3b57-449d-e182-55e912155e8a"
      },
      "execution_count": 31,
      "outputs": [
        {
          "output_type": "execute_result",
          "data": {
            "text/plain": [
              "rank                                         0\n",
              "Youtuber                                     0\n",
              "subscribers                                  0\n",
              "video views                                  0\n",
              "category                                    46\n",
              "Title                                        0\n",
              "uploads                                      0\n",
              "Country                                    122\n",
              "Abbreviation                               122\n",
              "channel_type                                30\n",
              "video_views_rank                             1\n",
              "video_views_for_the_last_30_days            56\n",
              "lowest_monthly_earnings                      0\n",
              "highest_monthly_earnings                     0\n",
              "lowest_yearly_earnings                       0\n",
              "highest_yearly_earnings                      0\n",
              "subscribers_for_last_30_days               337\n",
              "created_year                                 5\n",
              "created_month                                5\n",
              "created_date                                 5\n",
              "Gross tertiary education enrollment (%)    123\n",
              "Population                                 123\n",
              "Unemployment rate                          123\n",
              "Urban_population                           123\n",
              "dtype: int64"
            ]
          },
          "metadata": {},
          "execution_count": 31
        }
      ]
    },
    {
      "cell_type": "code",
      "source": [
        "for i in categorical:\n",
        "  mode_value = df[i].mode().iloc[0]\n",
        "  df.loc[:, i].fillna(mode_value, inplace=True)"
      ],
      "metadata": {
        "id": "vZwFikmfh--8"
      },
      "execution_count": 32,
      "outputs": []
    },
    {
      "cell_type": "code",
      "source": [
        "from sklearn.impute import KNNImputer\n",
        "\n",
        "imputer = KNNImputer(n_neighbors=5)\n",
        "df[numerical] = imputer.fit_transform(df[numerical])"
      ],
      "metadata": {
        "id": "AP6A62Pagf4v"
      },
      "execution_count": 33,
      "outputs": []
    },
    {
      "cell_type": "code",
      "source": [
        "df.dropna(inplace=True)"
      ],
      "metadata": {
        "id": "ID-j5roaivtP"
      },
      "execution_count": 34,
      "outputs": []
    },
    {
      "cell_type": "code",
      "source": [
        "df.isnull().sum()"
      ],
      "metadata": {
        "colab": {
          "base_uri": "https://localhost:8080/"
        },
        "id": "LzaijHz5hPYq",
        "outputId": "4c722dd1-4b5d-4429-afeb-081c0368bd12"
      },
      "execution_count": 35,
      "outputs": [
        {
          "output_type": "execute_result",
          "data": {
            "text/plain": [
              "rank                                       0\n",
              "Youtuber                                   0\n",
              "subscribers                                0\n",
              "video views                                0\n",
              "category                                   0\n",
              "Title                                      0\n",
              "uploads                                    0\n",
              "Country                                    0\n",
              "Abbreviation                               0\n",
              "channel_type                               0\n",
              "video_views_rank                           0\n",
              "video_views_for_the_last_30_days           0\n",
              "lowest_monthly_earnings                    0\n",
              "highest_monthly_earnings                   0\n",
              "lowest_yearly_earnings                     0\n",
              "highest_yearly_earnings                    0\n",
              "subscribers_for_last_30_days               0\n",
              "created_year                               0\n",
              "created_month                              0\n",
              "created_date                               0\n",
              "Gross tertiary education enrollment (%)    0\n",
              "Population                                 0\n",
              "Unemployment rate                          0\n",
              "Urban_population                           0\n",
              "dtype: int64"
            ]
          },
          "metadata": {},
          "execution_count": 35
        }
      ]
    },
    {
      "cell_type": "markdown",
      "source": [
        "#Dealing with outlier"
      ],
      "metadata": {
        "id": "J3ml_PsUk8v2"
      }
    },
    {
      "cell_type": "code",
      "source": [
        "df_copy = df.copy()"
      ],
      "metadata": {
        "id": "oyyT5621lJ57"
      },
      "execution_count": 36,
      "outputs": []
    },
    {
      "cell_type": "code",
      "source": [
        "df.info()"
      ],
      "metadata": {
        "colab": {
          "base_uri": "https://localhost:8080/"
        },
        "id": "s7YKJUMXvqjN",
        "outputId": "108d89f9-bac7-457d-ec1a-1de788cdc2db"
      },
      "execution_count": 40,
      "outputs": [
        {
          "output_type": "stream",
          "name": "stdout",
          "text": [
            "<class 'pandas.core.frame.DataFrame'>\n",
            "Int64Index: 994 entries, 0 to 994\n",
            "Data columns (total 24 columns):\n",
            " #   Column                                   Non-Null Count  Dtype  \n",
            "---  ------                                   --------------  -----  \n",
            " 0   rank                                     994 non-null    int64  \n",
            " 1   Youtuber                                 994 non-null    object \n",
            " 2   subscribers                              994 non-null    int64  \n",
            " 3   video views                              994 non-null    float64\n",
            " 4   category                                 994 non-null    object \n",
            " 5   Title                                    994 non-null    object \n",
            " 6   uploads                                  994 non-null    int64  \n",
            " 7   Country                                  994 non-null    object \n",
            " 8   Abbreviation                             994 non-null    object \n",
            " 9   channel_type                             994 non-null    object \n",
            " 10  video_views_rank                         994 non-null    float64\n",
            " 11  video_views_for_the_last_30_days         994 non-null    float64\n",
            " 12  lowest_monthly_earnings                  994 non-null    float64\n",
            " 13  highest_monthly_earnings                 994 non-null    float64\n",
            " 14  lowest_yearly_earnings                   994 non-null    float64\n",
            " 15  highest_yearly_earnings                  994 non-null    float64\n",
            " 16  subscribers_for_last_30_days             994 non-null    float64\n",
            " 17  created_year                             994 non-null    float64\n",
            " 18  created_month                            994 non-null    object \n",
            " 19  created_date                             994 non-null    float64\n",
            " 20  Gross tertiary education enrollment (%)  994 non-null    float64\n",
            " 21  Population                               994 non-null    float64\n",
            " 22  Unemployment rate                        994 non-null    float64\n",
            " 23  Urban_population                         994 non-null    float64\n",
            "dtypes: float64(14), int64(3), object(7)\n",
            "memory usage: 194.1+ KB\n"
          ]
        }
      ]
    },
    {
      "cell_type": "code",
      "source": [
        "print(df.columns)"
      ],
      "metadata": {
        "colab": {
          "base_uri": "https://localhost:8080/"
        },
        "id": "nkTpgtz6v3ty",
        "outputId": "8ad8853a-c635-4a72-a480-b40e43922008"
      },
      "execution_count": 44,
      "outputs": [
        {
          "output_type": "stream",
          "name": "stdout",
          "text": [
            "Index(['rank', 'Youtuber', 'subscribers', 'video views', 'category', 'Title',\n",
            "       'uploads', 'Country', 'Abbreviation', 'channel_type',\n",
            "       'video_views_rank', 'video_views_for_the_last_30_days',\n",
            "       'lowest_monthly_earnings', 'highest_monthly_earnings',\n",
            "       'lowest_yearly_earnings', 'highest_yearly_earnings',\n",
            "       'subscribers_for_last_30_days', 'created_year', 'created_month',\n",
            "       'created_date', 'Gross tertiary education enrollment (%)', 'Population',\n",
            "       'Unemployment rate', 'Urban_population'],\n",
            "      dtype='object')\n"
          ]
        }
      ]
    },
    {
      "cell_type": "code",
      "source": [
        "for i in df.columns:\n",
        "  if df[i].dtype != 'object':\n",
        "    Q1 = df[i].quantile(0.25)\n",
        "    Q3 = df[i].quantile(0.75)\n",
        "    IQR = Q3 - Q1\n",
        "    lower_bound = Q1 - 1.5 * IQR\n",
        "    upper_bound = Q3 + 1.5 * IQR\n",
        "\n",
        "    outliers = df[(df[i] < lower_bound) | (df[i] > upper_bound)]\n",
        "    outlier_count = len(outliers)\n",
        "    print(i, outlier_count)"
      ],
      "metadata": {
        "id": "eK6fvifPlMht",
        "colab": {
          "base_uri": "https://localhost:8080/"
        },
        "outputId": "b34f067a-11f1-4a4a-dff8-a2b6074eccd6"
      },
      "execution_count": 48,
      "outputs": [
        {
          "output_type": "stream",
          "name": "stdout",
          "text": [
            "rank 0\n",
            "subscribers 76\n",
            "video views 52\n",
            "uploads 132\n",
            "video_views_rank 178\n",
            "video_views_for_the_last_30_days 89\n",
            "lowest_monthly_earnings 99\n",
            "highest_monthly_earnings 99\n",
            "lowest_yearly_earnings 102\n",
            "highest_yearly_earnings 99\n",
            "subscribers_for_last_30_days 90\n",
            "created_year 1\n",
            "created_date 0\n",
            "Gross tertiary education enrollment (%) 0\n",
            "Population 198\n",
            "Unemployment rate 0\n",
            "Urban_population 1\n"
          ]
        }
      ]
    },
    {
      "cell_type": "code",
      "source": [],
      "metadata": {
        "id": "3x0grdODu1ih"
      },
      "execution_count": null,
      "outputs": []
    }
  ]
}